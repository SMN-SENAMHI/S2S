{
  "nbformat": 4,
  "nbformat_minor": 0,
  "metadata": {
    "colab": {
      "provenance": [],
      "include_colab_link": true
    },
    "kernelspec": {
      "name": "python3",
      "display_name": "Python 3"
    },
    "language_info": {
      "name": "python"
    }
  },
  "cells": [
    {
      "cell_type": "markdown",
      "metadata": {
        "id": "view-in-github",
        "colab_type": "text"
      },
      "source": [
        "<a href=\"https://colab.research.google.com/github/SMN-SENAMHI/S2S/blob/main/tmax.tmin.tmed.ipynb\" target=\"_parent\"><img src=\"https://colab.research.google.com/assets/colab-badge.svg\" alt=\"Open In Colab\"/></a>"
      ]
    },
    {
      "cell_type": "code",
      "execution_count": 5,
      "metadata": {
        "colab": {
          "base_uri": "https://localhost:8080/"
        },
        "id": "0VFmjFOiHpyV",
        "outputId": "3a0faa6b-b8dc-4075-bce4-8922f91ef5b1"
      },
      "outputs": [
        {
          "output_type": "stream",
          "name": "stdout",
          "text": [
            "Requirement already satisfied: xarray>=2025.1.2 in /usr/local/lib/python3.11/dist-packages (from xarray[complete]>=2025.1.2) (2025.3.1)\n",
            "Requirement already satisfied: zarr>=3.0.4 in /usr/local/lib/python3.11/dist-packages (3.0.8)\n",
            "Requirement already satisfied: requests in /usr/local/lib/python3.11/dist-packages (2.32.3)\n",
            "Requirement already satisfied: aiohttp in /usr/local/lib/python3.11/dist-packages (3.11.15)\n",
            "Requirement already satisfied: numpy>=1.24 in /usr/local/lib/python3.11/dist-packages (from xarray>=2025.1.2->xarray[complete]>=2025.1.2) (2.0.2)\n",
            "Requirement already satisfied: packaging>=23.2 in /usr/local/lib/python3.11/dist-packages (from xarray>=2025.1.2->xarray[complete]>=2025.1.2) (24.2)\n",
            "Requirement already satisfied: pandas>=2.1 in /usr/local/lib/python3.11/dist-packages (from xarray>=2025.1.2->xarray[complete]>=2025.1.2) (2.2.2)\n",
            "Requirement already satisfied: donfig>=0.8 in /usr/local/lib/python3.11/dist-packages (from zarr>=3.0.4) (0.8.1.post1)\n",
            "Requirement already satisfied: numcodecs>=0.14 in /usr/local/lib/python3.11/dist-packages (from numcodecs[crc32c]>=0.14->zarr>=3.0.4) (0.16.1)\n",
            "Requirement already satisfied: typing-extensions>=4.9 in /usr/local/lib/python3.11/dist-packages (from zarr>=3.0.4) (4.13.2)\n",
            "Requirement already satisfied: charset-normalizer<4,>=2 in /usr/local/lib/python3.11/dist-packages (from requests) (3.4.2)\n",
            "Requirement already satisfied: idna<4,>=2.5 in /usr/local/lib/python3.11/dist-packages (from requests) (3.10)\n",
            "Requirement already satisfied: urllib3<3,>=1.21.1 in /usr/local/lib/python3.11/dist-packages (from requests) (2.4.0)\n",
            "Requirement already satisfied: certifi>=2017.4.17 in /usr/local/lib/python3.11/dist-packages (from requests) (2025.4.26)\n",
            "Requirement already satisfied: aiohappyeyeballs>=2.3.0 in /usr/local/lib/python3.11/dist-packages (from aiohttp) (2.6.1)\n",
            "Requirement already satisfied: aiosignal>=1.1.2 in /usr/local/lib/python3.11/dist-packages (from aiohttp) (1.3.2)\n",
            "Requirement already satisfied: attrs>=17.3.0 in /usr/local/lib/python3.11/dist-packages (from aiohttp) (25.3.0)\n",
            "Requirement already satisfied: frozenlist>=1.1.1 in /usr/local/lib/python3.11/dist-packages (from aiohttp) (1.6.0)\n",
            "Requirement already satisfied: multidict<7.0,>=4.5 in /usr/local/lib/python3.11/dist-packages (from aiohttp) (6.4.4)\n",
            "Requirement already satisfied: propcache>=0.2.0 in /usr/local/lib/python3.11/dist-packages (from aiohttp) (0.3.1)\n",
            "Requirement already satisfied: yarl<2.0,>=1.17.0 in /usr/local/lib/python3.11/dist-packages (from aiohttp) (1.20.0)\n",
            "Requirement already satisfied: pyyaml in /usr/local/lib/python3.11/dist-packages (from donfig>=0.8->zarr>=3.0.4) (6.0.2)\n",
            "Requirement already satisfied: crc32c>=2.7 in /usr/local/lib/python3.11/dist-packages (from numcodecs[crc32c]>=0.14->zarr>=3.0.4) (2.7.1)\n",
            "Requirement already satisfied: python-dateutil>=2.8.2 in /usr/local/lib/python3.11/dist-packages (from pandas>=2.1->xarray>=2025.1.2->xarray[complete]>=2025.1.2) (2.9.0.post0)\n",
            "Requirement already satisfied: pytz>=2020.1 in /usr/local/lib/python3.11/dist-packages (from pandas>=2.1->xarray>=2025.1.2->xarray[complete]>=2025.1.2) (2025.2)\n",
            "Requirement already satisfied: tzdata>=2022.7 in /usr/local/lib/python3.11/dist-packages (from pandas>=2.1->xarray>=2025.1.2->xarray[complete]>=2025.1.2) (2025.2)\n",
            "Requirement already satisfied: scipy in /usr/local/lib/python3.11/dist-packages (from xarray>=2025.1.2->xarray[complete]>=2025.1.2) (1.15.3)\n",
            "Requirement already satisfied: bottleneck in /usr/local/lib/python3.11/dist-packages (from xarray>=2025.1.2->xarray[complete]>=2025.1.2) (1.4.2)\n",
            "Requirement already satisfied: numbagg in /usr/local/lib/python3.11/dist-packages (from xarray>=2025.1.2->xarray[complete]>=2025.1.2) (0.9.0)\n",
            "Requirement already satisfied: numba>=0.54 in /usr/local/lib/python3.11/dist-packages (from xarray>=2025.1.2->xarray[complete]>=2025.1.2) (0.60.0)\n",
            "Requirement already satisfied: flox in /usr/local/lib/python3.11/dist-packages (from xarray>=2025.1.2->xarray[complete]>=2025.1.2) (0.10.4)\n",
            "Requirement already satisfied: opt_einsum in /usr/local/lib/python3.11/dist-packages (from xarray>=2025.1.2->xarray[complete]>=2025.1.2) (3.4.0)\n",
            "Requirement already satisfied: netCDF4 in /usr/local/lib/python3.11/dist-packages (from xarray>=2025.1.2->xarray[complete]>=2025.1.2) (1.7.2)\n",
            "Requirement already satisfied: h5netcdf in /usr/local/lib/python3.11/dist-packages (from xarray>=2025.1.2->xarray[complete]>=2025.1.2) (1.6.1)\n",
            "Requirement already satisfied: fsspec in /usr/local/lib/python3.11/dist-packages (from xarray>=2025.1.2->xarray[complete]>=2025.1.2) (2025.3.2)\n",
            "Requirement already satisfied: cftime in /usr/local/lib/python3.11/dist-packages (from xarray>=2025.1.2->xarray[complete]>=2025.1.2) (1.6.4.post1)\n",
            "Requirement already satisfied: pooch in /usr/local/lib/python3.11/dist-packages (from xarray>=2025.1.2->xarray[complete]>=2025.1.2) (1.8.2)\n",
            "Requirement already satisfied: sparse in /usr/local/lib/python3.11/dist-packages (from xarray>=2025.1.2->xarray[complete]>=2025.1.2) (0.17.0)\n",
            "Requirement already satisfied: dask[complete] in /usr/local/lib/python3.11/dist-packages (from xarray>=2025.1.2->xarray[complete]>=2025.1.2) (2024.12.1)\n",
            "Requirement already satisfied: cartopy in /usr/local/lib/python3.11/dist-packages (from xarray>=2025.1.2->xarray[complete]>=2025.1.2) (0.24.1)\n",
            "Requirement already satisfied: matplotlib in /usr/local/lib/python3.11/dist-packages (from xarray>=2025.1.2->xarray[complete]>=2025.1.2) (3.10.0)\n",
            "Requirement already satisfied: nc-time-axis in /usr/local/lib/python3.11/dist-packages (from xarray>=2025.1.2->xarray[complete]>=2025.1.2) (1.4.1)\n",
            "Requirement already satisfied: seaborn in /usr/local/lib/python3.11/dist-packages (from xarray>=2025.1.2->xarray[complete]>=2025.1.2) (0.13.2)\n",
            "Requirement already satisfied: llvmlite<0.44,>=0.43.0dev0 in /usr/local/lib/python3.11/dist-packages (from numba>=0.54->xarray>=2025.1.2->xarray[complete]>=2025.1.2) (0.43.0)\n",
            "Requirement already satisfied: six>=1.5 in /usr/local/lib/python3.11/dist-packages (from python-dateutil>=2.8.2->pandas>=2.1->xarray>=2025.1.2->xarray[complete]>=2025.1.2) (1.17.0)\n",
            "Requirement already satisfied: shapely>=1.8 in /usr/local/lib/python3.11/dist-packages (from cartopy->xarray>=2025.1.2->xarray[complete]>=2025.1.2) (2.1.1)\n",
            "Requirement already satisfied: pyshp>=2.3 in /usr/local/lib/python3.11/dist-packages (from cartopy->xarray>=2025.1.2->xarray[complete]>=2025.1.2) (2.3.1)\n",
            "Requirement already satisfied: pyproj>=3.3.1 in /usr/local/lib/python3.11/dist-packages (from cartopy->xarray>=2025.1.2->xarray[complete]>=2025.1.2) (3.7.1)\n",
            "Requirement already satisfied: contourpy>=1.0.1 in /usr/local/lib/python3.11/dist-packages (from matplotlib->xarray>=2025.1.2->xarray[complete]>=2025.1.2) (1.3.2)\n",
            "Requirement already satisfied: cycler>=0.10 in /usr/local/lib/python3.11/dist-packages (from matplotlib->xarray>=2025.1.2->xarray[complete]>=2025.1.2) (0.12.1)\n",
            "Requirement already satisfied: fonttools>=4.22.0 in /usr/local/lib/python3.11/dist-packages (from matplotlib->xarray>=2025.1.2->xarray[complete]>=2025.1.2) (4.58.1)\n",
            "Requirement already satisfied: kiwisolver>=1.3.1 in /usr/local/lib/python3.11/dist-packages (from matplotlib->xarray>=2025.1.2->xarray[complete]>=2025.1.2) (1.4.8)\n",
            "Requirement already satisfied: pillow>=8 in /usr/local/lib/python3.11/dist-packages (from matplotlib->xarray>=2025.1.2->xarray[complete]>=2025.1.2) (11.2.1)\n",
            "Requirement already satisfied: pyparsing>=2.3.1 in /usr/local/lib/python3.11/dist-packages (from matplotlib->xarray>=2025.1.2->xarray[complete]>=2025.1.2) (3.2.3)\n",
            "Requirement already satisfied: click>=8.1 in /usr/local/lib/python3.11/dist-packages (from dask[complete]; extra == \"parallel\"->xarray>=2025.1.2->xarray[complete]>=2025.1.2) (8.2.1)\n",
            "Requirement already satisfied: cloudpickle>=3.0.0 in /usr/local/lib/python3.11/dist-packages (from dask[complete]; extra == \"parallel\"->xarray>=2025.1.2->xarray[complete]>=2025.1.2) (3.1.1)\n",
            "Requirement already satisfied: partd>=1.4.0 in /usr/local/lib/python3.11/dist-packages (from dask[complete]; extra == \"parallel\"->xarray>=2025.1.2->xarray[complete]>=2025.1.2) (1.4.2)\n",
            "Requirement already satisfied: toolz>=0.10.0 in /usr/local/lib/python3.11/dist-packages (from dask[complete]; extra == \"parallel\"->xarray>=2025.1.2->xarray[complete]>=2025.1.2) (0.12.1)\n",
            "Requirement already satisfied: importlib_metadata>=4.13.0 in /usr/local/lib/python3.11/dist-packages (from dask[complete]; extra == \"parallel\"->xarray>=2025.1.2->xarray[complete]>=2025.1.2) (8.7.0)\n",
            "Requirement already satisfied: pyarrow>=14.0.1 in /usr/local/lib/python3.11/dist-packages (from dask[complete]; extra == \"parallel\"->xarray>=2025.1.2->xarray[complete]>=2025.1.2) (18.1.0)\n",
            "Requirement already satisfied: lz4>=4.3.2 in /usr/local/lib/python3.11/dist-packages (from dask[complete]; extra == \"parallel\"->xarray>=2025.1.2->xarray[complete]>=2025.1.2) (4.4.4)\n",
            "Requirement already satisfied: numpy_groupies>=0.9.19 in /usr/local/lib/python3.11/dist-packages (from flox->xarray>=2025.1.2->xarray[complete]>=2025.1.2) (0.11.3)\n",
            "Requirement already satisfied: h5py in /usr/local/lib/python3.11/dist-packages (from h5netcdf->xarray>=2025.1.2->xarray[complete]>=2025.1.2) (3.13.0)\n",
            "Requirement already satisfied: platformdirs>=2.5.0 in /usr/local/lib/python3.11/dist-packages (from pooch->xarray>=2025.1.2->xarray[complete]>=2025.1.2) (4.3.8)\n",
            "Requirement already satisfied: zipp>=3.20 in /usr/local/lib/python3.11/dist-packages (from importlib_metadata>=4.13.0->dask[complete]; extra == \"parallel\"->xarray>=2025.1.2->xarray[complete]>=2025.1.2) (3.22.0)\n",
            "Requirement already satisfied: locket in /usr/local/lib/python3.11/dist-packages (from partd>=1.4.0->dask[complete]; extra == \"parallel\"->xarray>=2025.1.2->xarray[complete]>=2025.1.2) (1.0.0)\n",
            "Requirement already satisfied: dask-expr<1.2,>=1.1 in /usr/local/lib/python3.11/dist-packages (from dask[complete]->xarray>=2025.1.2->xarray[complete]>=2025.1.2) (1.1.21)\n",
            "Requirement already satisfied: distributed==2024.12.1 in /usr/local/lib/python3.11/dist-packages (from dask[complete]->xarray>=2025.1.2->xarray[complete]>=2025.1.2) (2024.12.1)\n",
            "Requirement already satisfied: bokeh>=3.1.0 in /usr/local/lib/python3.11/dist-packages (from dask[complete]->xarray>=2025.1.2->xarray[complete]>=2025.1.2) (3.7.3)\n",
            "Requirement already satisfied: jinja2>=2.10.3 in /usr/local/lib/python3.11/dist-packages (from dask[complete]->xarray>=2025.1.2->xarray[complete]>=2025.1.2) (3.1.6)\n",
            "Requirement already satisfied: msgpack>=1.0.2 in /usr/local/lib/python3.11/dist-packages (from distributed==2024.12.1->dask[complete]->xarray>=2025.1.2->xarray[complete]>=2025.1.2) (1.1.0)\n",
            "Requirement already satisfied: psutil>=5.8.0 in /usr/local/lib/python3.11/dist-packages (from distributed==2024.12.1->dask[complete]->xarray>=2025.1.2->xarray[complete]>=2025.1.2) (5.9.5)\n",
            "Requirement already satisfied: sortedcontainers>=2.0.5 in /usr/local/lib/python3.11/dist-packages (from distributed==2024.12.1->dask[complete]->xarray>=2025.1.2->xarray[complete]>=2025.1.2) (2.4.0)\n",
            "Requirement already satisfied: tblib>=1.6.0 in /usr/local/lib/python3.11/dist-packages (from distributed==2024.12.1->dask[complete]->xarray>=2025.1.2->xarray[complete]>=2025.1.2) (3.1.0)\n",
            "Requirement already satisfied: tornado>=6.2.0 in /usr/local/lib/python3.11/dist-packages (from distributed==2024.12.1->dask[complete]->xarray>=2025.1.2->xarray[complete]>=2025.1.2) (6.4.2)\n",
            "Requirement already satisfied: zict>=3.0.0 in /usr/local/lib/python3.11/dist-packages (from distributed==2024.12.1->dask[complete]->xarray>=2025.1.2->xarray[complete]>=2025.1.2) (3.0.0)\n",
            "Requirement already satisfied: narwhals>=1.13 in /usr/local/lib/python3.11/dist-packages (from bokeh>=3.1.0->dask[complete]->xarray>=2025.1.2->xarray[complete]>=2025.1.2) (1.41.0)\n",
            "Requirement already satisfied: xyzservices>=2021.09.1 in /usr/local/lib/python3.11/dist-packages (from bokeh>=3.1.0->dask[complete]->xarray>=2025.1.2->xarray[complete]>=2025.1.2) (2025.4.0)\n",
            "Requirement already satisfied: MarkupSafe>=2.0 in /usr/local/lib/python3.11/dist-packages (from jinja2>=2.10.3->dask[complete]->xarray>=2025.1.2->xarray[complete]>=2025.1.2) (3.0.2)\n",
            "Reading package lists... Done\n",
            "Building dependency tree... Done\n",
            "Reading state information... Done\n",
            "libgeos-dev is already the newest version (3.12.1-1~jammy0).\n",
            "libproj-dev is already the newest version (9.3.1-1~jammy0).\n",
            "proj-bin is already the newest version (9.3.1-1~jammy0).\n",
            "proj-data is already the newest version (9.3.1-1~jammy0).\n",
            "0 upgraded, 0 newly installed, 0 to remove and 35 not upgraded.\n",
            "Requirement already satisfied: cython in /usr/local/lib/python3.11/dist-packages (3.0.12)\n",
            "Requirement already satisfied: cartopy in /usr/local/lib/python3.11/dist-packages (0.24.1)\n",
            "Requirement already satisfied: numpy>=1.23 in /usr/local/lib/python3.11/dist-packages (from cartopy) (2.0.2)\n",
            "Requirement already satisfied: matplotlib>=3.6 in /usr/local/lib/python3.11/dist-packages (from cartopy) (3.10.0)\n",
            "Requirement already satisfied: shapely>=1.8 in /usr/local/lib/python3.11/dist-packages (from cartopy) (2.1.1)\n",
            "Requirement already satisfied: packaging>=21 in /usr/local/lib/python3.11/dist-packages (from cartopy) (24.2)\n",
            "Requirement already satisfied: pyshp>=2.3 in /usr/local/lib/python3.11/dist-packages (from cartopy) (2.3.1)\n",
            "Requirement already satisfied: pyproj>=3.3.1 in /usr/local/lib/python3.11/dist-packages (from cartopy) (3.7.1)\n",
            "Requirement already satisfied: contourpy>=1.0.1 in /usr/local/lib/python3.11/dist-packages (from matplotlib>=3.6->cartopy) (1.3.2)\n",
            "Requirement already satisfied: cycler>=0.10 in /usr/local/lib/python3.11/dist-packages (from matplotlib>=3.6->cartopy) (0.12.1)\n",
            "Requirement already satisfied: fonttools>=4.22.0 in /usr/local/lib/python3.11/dist-packages (from matplotlib>=3.6->cartopy) (4.58.1)\n",
            "Requirement already satisfied: kiwisolver>=1.3.1 in /usr/local/lib/python3.11/dist-packages (from matplotlib>=3.6->cartopy) (1.4.8)\n",
            "Requirement already satisfied: pillow>=8 in /usr/local/lib/python3.11/dist-packages (from matplotlib>=3.6->cartopy) (11.2.1)\n",
            "Requirement already satisfied: pyparsing>=2.3.1 in /usr/local/lib/python3.11/dist-packages (from matplotlib>=3.6->cartopy) (3.2.3)\n",
            "Requirement already satisfied: python-dateutil>=2.7 in /usr/local/lib/python3.11/dist-packages (from matplotlib>=3.6->cartopy) (2.9.0.post0)\n",
            "Requirement already satisfied: certifi in /usr/local/lib/python3.11/dist-packages (from pyproj>=3.3.1->cartopy) (2025.4.26)\n",
            "Requirement already satisfied: six>=1.5 in /usr/local/lib/python3.11/dist-packages (from python-dateutil>=2.7->matplotlib>=3.6->cartopy) (1.17.0)\n"
          ]
        }
      ],
      "source": [
        "# Install dependencies required for this example.\n",
        "# If you're not using pip to install depdencies (for example, you're using conda or uv),\n",
        "# skip this cell and and install using the package manager of your choice.\n",
        "# Restart the notebook after installing dependencies.\n",
        "%pip install \"xarray[complete]>=2025.1.2\" \"zarr>=3.0.4\" requests aiohttp\n",
        "!apt-get install -y libproj-dev proj-data proj-bin libgeos-dev\n",
        "!pip install cython\n",
        "!pip install cartopy"
      ]
    },
    {
      "cell_type": "code",
      "source": [],
      "metadata": {
        "id": "xyuxE5kpIXcS"
      },
      "execution_count": null,
      "outputs": []
    },
    {
      "cell_type": "code",
      "source": [],
      "metadata": {
        "id": "2abjlfvsdmu8"
      },
      "execution_count": null,
      "outputs": []
    },
    {
      "cell_type": "code",
      "source": [
        "import xarray as xr\n",
        "import matplotlib.pyplot as plt\n",
        "import numpy as np\n",
        "\n",
        "#COLOCAR COORDENADA PARA LIMA\n",
        "#lat_lima = -12.0\n",
        "#lon_lima = -77.0\n",
        "\n",
        "#📍 CUSCO PERU\n",
        "#lat_lima = -13.5320\n",
        "#lon_lima: -71.9675\n",
        "\n",
        "#📍 PUERTO MALDONADO PERU\n",
        "lat_lima = -12.5933\n",
        "lon_lima = -69.1899\n",
        "\n",
        "\n",
        "#COLOCAR FECHAS YYYY-MM-DDT00\n",
        "init_time = \"2025-06-02T00\"\n",
        "\n",
        "# Abrir dataset completo y seleccionar solo la variable necesaria\n",
        "ds = xr.open_zarr(\"https://data.dynamical.org/noaa/gefs/forecast-35-day/latest.zarr\", consolidated=True)\n",
        "ds_var = ds[\"minimum_temperature_2m\"].sel(init_time=init_time, latitude=lat_lima, longitude=lon_lima, method=\"nearest\")\n",
        "\n",
        "# Crear coordenada de tiempo completo\n",
        "forecast_time = ds_var.init_time + ds_var.lead_time\n",
        "ds_var = ds_var.assign_coords(forecast_time=forecast_time).swap_dims({\"lead_time\": \"forecast_time\"})\n",
        "\n",
        "# Agrupar por día (media diaria por miembro)\n",
        "ds_daily = ds_var.groupby(\"forecast_time.date\").mean()\n",
        "\n",
        "# Crear colores para grupos de 5 miembros\n",
        "colors = ['blue', 'green', 'orange', 'purple', 'brown', 'gray', 'red']\n",
        "member_colors = [colors[i // 5] for i in range(ds_daily.ensemble_member.size)]\n",
        "\n",
        "# Iniciar figura\n",
        "plt.figure(figsize=(14, 7))\n",
        "for i, member in enumerate(ds_daily.ensemble_member.values):\n",
        "    plt.plot(ds_daily.date, ds_daily.sel(ensemble_member=member), color=member_colors[i], alpha=0.7)\n",
        "\n",
        "# Línea del promedio del ensamble\n",
        "ensemble_mean = ds_daily.mean(dim=\"ensemble_member\")\n",
        "plt.plot(ds_daily.date, ensemble_mean, color=\"black\", linewidth=2.5, label=\"Media del ensamble\")\n",
        "\n",
        "# Personalización del gráfico\n",
        "plt.title(\"GEFS - Temperatura mínima diaria (Lima) - init 2025-05-05\")\n",
        "plt.xlabel(\"Fecha\")\n",
        "plt.ylabel(\"Temperatura mínima [°C]\")\n",
        "plt.grid(True)\n",
        "plt.legend()\n",
        "plt.tight_layout()\n",
        "plt.show()\n"
      ],
      "metadata": {
        "colab": {
          "base_uri": "https://localhost:8080/"
        },
        "id": "PhzobFE6dm0p",
        "outputId": "ed09fe75-ddd2-4843-9528-543a76a190a8"
      },
      "execution_count": null,
      "outputs": [
        {
          "metadata": {
            "tags": null
          },
          "name": "stderr",
          "output_type": "stream",
          "text": [
            "<ipython-input-6-89739d920fa7>:22: FutureWarning: In a future version of xarray decode_timedelta will default to False rather than None. To silence this warning, set decode_timedelta to True, False, or a 'CFTimedeltaCoder' instance.\n",
            "  ds = xr.open_zarr(\"https://data.dynamical.org/noaa/gefs/forecast-35-day/latest.zarr\", consolidated=True)\n",
            "<ipython-input-6-89739d920fa7>:22: FutureWarning: In a future version of xarray decode_timedelta will default to False rather than None. To silence this warning, set decode_timedelta to True, False, or a 'CFTimedeltaCoder' instance.\n",
            "  ds = xr.open_zarr(\"https://data.dynamical.org/noaa/gefs/forecast-35-day/latest.zarr\", consolidated=True)\n"
          ]
        }
      ]
    },
    {
      "cell_type": "code",
      "source": [],
      "metadata": {
        "id": "dKFoDRyF8V4L"
      },
      "execution_count": null,
      "outputs": []
    },
    {
      "cell_type": "code",
      "source": [
        "import xarray as xr\n",
        "import matplotlib.pyplot as plt\n",
        "import matplotlib.dates as mdates\n",
        "from matplotlib.ticker import MultipleLocator\n",
        "\n",
        "#COLOCAR COORDENADA PARA LIMA\n",
        "#lat_lima = -12.0\n",
        "#lon_lima = -77.0\n",
        "\n",
        "#📍 CUSCO PERU\n",
        "#lat_lima = -13.5320\n",
        "#lon_lima: -71.9675\n",
        "\n",
        "#📍 PUERTO MALDONADO PERU\n",
        "lat_lima = -12.5933\n",
        "lon_lima = -69.1899\n",
        "\n",
        "#COLOCAR FECHAS YYYY-MM-DDT00\n",
        "init_time = \"2025-06-03T00\"\n",
        "\n",
        "\n",
        "vars_needed = [\"maximum_temperature_2m\", \"temperature_2m\", \"minimum_temperature_2m\"]\n",
        "\n",
        "# Abrir y seleccionar\n",
        "ds = xr.open_zarr(\"https://data.dynamical.org/noaa/gefs/forecast-35-day/latest.zarr\", consolidated=True)\n",
        "ds = ds[vars_needed].sel(init_time=init_time, latitude=lat, longitude=lon, method=\"nearest\")\n",
        "\n",
        "# Crear forecast_time\n",
        "forecast_time = ds.init_time + ds.lead_time\n",
        "ds = ds.assign_coords(forecast_time=forecast_time).swap_dims({\"lead_time\": \"forecast_time\"})\n",
        "\n",
        "# Agrupar por día calendario y calcular promedio del ensamble\n",
        "ds_daily = ds.groupby(\"forecast_time.date\").mean(dim=[\"forecast_time\", \"ensemble_member\"])\n",
        "\n",
        "# Limitar a los primeros 35 días\n",
        "ds_daily = ds_daily.isel(date=slice(1, 35))\n",
        "fechas = ds_daily[\"date\"].values\n",
        "\n",
        "# Graficar\n",
        "plt.figure(figsize=(15, 6))\n",
        "plt.plot(fechas, ds_daily[\"maximum_temperature_2m\"], label=\"T. Máxima\", color=\"red\", marker='o', linewidth=2)\n",
        "plt.plot(fechas, ds_daily[\"temperature_2m\"], label=\"T. Media\", color=\"orange\", marker='o', linewidth=2)\n",
        "plt.plot(fechas, ds_daily[\"minimum_temperature_2m\"], label=\"T. Mínima\", color=\"blue\", marker='o', linewidth=2)\n",
        "\n",
        "# Formato de fechas en eje X\n",
        "plt.gca().xaxis.set_major_locator(mdates.DayLocator(interval=1))\n",
        "plt.gca().xaxis.set_major_formatter(mdates.DateFormatter(\"%d-%b\"))\n",
        "plt.xticks(rotation=45, ha=\"right\")\n",
        "\n",
        "# Configurar eje Y con paso de 0.5 °C\n",
        "plt.gca().yaxis.set_major_locator(MultipleLocator(0.5))\n",
        "\n",
        "# Personalización final\n",
        "plt.title(\"GEFS - Temperatura diaria promedio del ensamble en Lima (primeros 35 días, init: 2025-05-05)\")\n",
        "plt.xlabel(\"Fecha\")\n",
        "plt.ylabel(\"Temperatura [°C]\")\n",
        "plt.grid(True, linestyle=\"--\", alpha=0.5)\n",
        "plt.legend()\n",
        "plt.tight_layout()\n",
        "plt.show()\n"
      ],
      "metadata": {
        "colab": {
          "base_uri": "https://localhost:8080/",
          "height": 300
        },
        "id": "mP6q_860B-pp",
        "outputId": "d1ffd846-3d2a-46ce-ca89-768af97eb48f"
      },
      "execution_count": 4,
      "outputs": [
        {
          "output_type": "stream",
          "name": "stderr",
          "text": [
            "<ipython-input-4-9ede293ecb6c>:25: FutureWarning: In a future version of xarray decode_timedelta will default to False rather than None. To silence this warning, set decode_timedelta to True, False, or a 'CFTimedeltaCoder' instance.\n",
            "  ds = xr.open_zarr(\"https://data.dynamical.org/noaa/gefs/forecast-35-day/latest.zarr\", consolidated=True)\n",
            "<ipython-input-4-9ede293ecb6c>:25: FutureWarning: In a future version of xarray decode_timedelta will default to False rather than None. To silence this warning, set decode_timedelta to True, False, or a 'CFTimedeltaCoder' instance.\n",
            "  ds = xr.open_zarr(\"https://data.dynamical.org/noaa/gefs/forecast-35-day/latest.zarr\", consolidated=True)\n"
          ]
        },
        {
          "output_type": "error",
          "ename": "NameError",
          "evalue": "name 'lat' is not defined",
          "traceback": [
            "\u001b[0;31m---------------------------------------------------------------------------\u001b[0m",
            "\u001b[0;31mNameError\u001b[0m                                 Traceback (most recent call last)",
            "\u001b[0;32m<ipython-input-4-9ede293ecb6c>\u001b[0m in \u001b[0;36m<cell line: 0>\u001b[0;34m()\u001b[0m\n\u001b[1;32m     24\u001b[0m \u001b[0;31m# Abrir y seleccionar\u001b[0m\u001b[0;34m\u001b[0m\u001b[0;34m\u001b[0m\u001b[0m\n\u001b[1;32m     25\u001b[0m \u001b[0mds\u001b[0m \u001b[0;34m=\u001b[0m \u001b[0mxr\u001b[0m\u001b[0;34m.\u001b[0m\u001b[0mopen_zarr\u001b[0m\u001b[0;34m(\u001b[0m\u001b[0;34m\"https://data.dynamical.org/noaa/gefs/forecast-35-day/latest.zarr\"\u001b[0m\u001b[0;34m,\u001b[0m \u001b[0mconsolidated\u001b[0m\u001b[0;34m=\u001b[0m\u001b[0;32mTrue\u001b[0m\u001b[0;34m)\u001b[0m\u001b[0;34m\u001b[0m\u001b[0;34m\u001b[0m\u001b[0m\n\u001b[0;32m---> 26\u001b[0;31m \u001b[0mds\u001b[0m \u001b[0;34m=\u001b[0m \u001b[0mds\u001b[0m\u001b[0;34m[\u001b[0m\u001b[0mvars_needed\u001b[0m\u001b[0;34m]\u001b[0m\u001b[0;34m.\u001b[0m\u001b[0msel\u001b[0m\u001b[0;34m(\u001b[0m\u001b[0minit_time\u001b[0m\u001b[0;34m=\u001b[0m\u001b[0minit_time\u001b[0m\u001b[0;34m,\u001b[0m \u001b[0mlatitude\u001b[0m\u001b[0;34m=\u001b[0m\u001b[0mlat\u001b[0m\u001b[0;34m,\u001b[0m \u001b[0mlongitude\u001b[0m\u001b[0;34m=\u001b[0m\u001b[0mlon\u001b[0m\u001b[0;34m,\u001b[0m \u001b[0mmethod\u001b[0m\u001b[0;34m=\u001b[0m\u001b[0;34m\"nearest\"\u001b[0m\u001b[0;34m)\u001b[0m\u001b[0;34m\u001b[0m\u001b[0;34m\u001b[0m\u001b[0m\n\u001b[0m\u001b[1;32m     27\u001b[0m \u001b[0;34m\u001b[0m\u001b[0m\n\u001b[1;32m     28\u001b[0m \u001b[0;31m# Crear forecast_time\u001b[0m\u001b[0;34m\u001b[0m\u001b[0;34m\u001b[0m\u001b[0m\n",
            "\u001b[0;31mNameError\u001b[0m: name 'lat' is not defined"
          ]
        }
      ]
    }
  ]
}